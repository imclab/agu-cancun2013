{
 "metadata": {
  "name": "steb-by-step"
 },
 "nbformat": 3,
 "nbformat_minor": 0,
 "worksheets": [
  {
   "cells": [
    {
     "cell_type": "markdown",
     "metadata": {},
     "source": [
      "# Show a sample inversion step-by-step\n",
      "\n",
      "Import required modules"
     ]
    },
    {
     "cell_type": "code",
     "collapsed": false,
     "input": [
      "%pylab inline\n",
      "import sys\n",
      "sys.path.append('../fatiando')\n",
      "from fatiando import gravmag, mesher, gridder, utils\n",
      "from fatiando.vis import mpl, myv"
     ],
     "language": "python",
     "metadata": {},
     "outputs": [
      {
       "output_type": "stream",
       "stream": "stdout",
       "text": [
        "\n",
        "Welcome to pylab, a matplotlib-based Python environment [backend: module://IPython.zmq.pylab.backend_inline].\n",
        "For more information, type 'help(pylab)'.\n"
       ]
      }
     ],
     "prompt_number": 1
    },
    {
     "cell_type": "markdown",
     "metadata": {},
     "source": [
      "## Make a nice model and some data\n",
      "\n",
      "Use a prism model to generate some synthetic total field anomaly data."
     ]
    },
    {
     "cell_type": "code",
     "collapsed": false,
     "input": [
      "bounds = [-1500, 1500, -500, 500, 0, 1000]\n",
      "props = {'magnetization':10}\n",
      "model = [mesher.Prism(-600,   600, -200, 200,  200,  500, props)]\n",
      "\n",
      "inc, dec = -45, 0\n",
      "area = bounds[:4]\n",
      "shape = (50, 50)\n",
      "x, y, z = gridder.regular(area, shape, z=-1)\n",
      "tf = utils.contaminate(gravmag.prism.tf(x, y, z, model, inc, dec), stddev=5) # stddev is error in nT\n",
      "data = [gravmag.harvester.TotalField(x, y, z, tf, inc, dec)]\n",
      "\n",
      "mpl.figure()\n",
      "mpl.axis('scaled')\n",
      "mpl.title('the data')\n",
      "mpl.contourf(y, x, tf, shape, 60)\n",
      "cb = mpl.colorbar()\n",
      "cb.set_label('nT')\n",
      "mpl.m2km()"
     ],
     "language": "python",
     "metadata": {},
     "outputs": [
      {
       "output_type": "display_data",
       "png": "[encoded data removed]"
      }
     ],
     "prompt_number": 15
    },
    {
     "cell_type": "markdown",
     "metadata": {},
     "source": [
      "## Make the mesh and seeds then invert!\n",
      "\n",
      "First make a mesh and a seed"
     ]
    },
    {
     "cell_type": "code",
     "collapsed": false,
     "input": [
      "mesh = mesher.PrismMesh(bounds, (15, 15, 45))\n",
      "print 'Mesh dimensions:', mesh.dims\n",
      "print 'Mesh size:', mesh.size\n",
      "locations = [[0, 0, 210, props]]\n",
      "seeds = gravmag.harvester.sow(locations, mesh)"
     ],
     "language": "python",
     "metadata": {},
     "outputs": [
      {
       "output_type": "stream",
       "stream": "stdout",
       "text": [
        "Mesh dimensions: (66.66666666666667, 66.66666666666667, 66.66666666666667)\n",
        "Mesh size: 10125\n"
       ]
      }
     ],
     "prompt_number": 5
    },
    {
     "cell_type": "markdown",
     "metadata": {},
     "source": [
      "Now we set the Mayavi scene with the model, data and seed.\n",
      "Don't try to close the figure that opens!\n",
      "We'll keep drawing on the same figure to avoid spawning hundreds of windows."
     ]
    },
    {
     "cell_type": "code",
     "collapsed": false,
     "input": [
      "def view(scene):\n",
      "    \"Set the angle of the camera for a Mayavi scene\"\n",
      "    scene.scene.camera.position = [-83.024725024999498, -5387.4077553527204, -1233.3420113237992]\n",
      "    scene.scene.camera.focal_point = [11.912692636517789, -7.6653210228098061, -277.43429149048291]\n",
      "    scene.scene.camera.view_angle = 30.0\n",
      "    scene.scene.camera.view_up = [-0.0010641415948387176, 0.17496434308490244, -0.98457419540201974]\n",
      "    scene.scene.camera.clipping_range = [3910.2270143789488, 7427.8665891592427]\n",
      "    scene.scene.camera.compute_view_plane_normal()\n",
      "    scene.scene.render()\n",
      "X = reshape(x, shape, order='F')\n",
      "Y = reshape(y, shape, order='F')\n",
      "def plotdata(data, position):\n",
      "    \"Plot the data in the Mayavi scene at a given height from the mesh\"\n",
      "    scale = 0.5    \n",
      "    Z = reshape(data, shape, order='F')\n",
      "    p = myv.mlab.contour_surf(X, Y, -Z, contours=100, colormap='gist_rainbow')\n",
      "    p.contour.filled_contours = True\n",
      "    p.actor.actor.position = (0, 0, position)\n",
      "    p.actor.actor.scale = (1, 1, scale)\n",
      "# Start the scene with the model, data, outline and walls\n",
      "fig = myv.figure(size=(1100, 1000))\n",
      "pm = myv.prisms(model, linewidth=2)\n",
      "pm.actor.mapper.scalar_visibility = False\n",
      "pm.actor.property.color = (1,0,0)\n",
      "myv.outline(bounds)\n",
      "myv.wall_bottom(bounds)\n",
      "myv.wall_east(bounds)\n",
      "plotdata(tf, -1000)\n",
      "view(fig)\n",
      "titlesize = 0.8\n",
      "myv.savefig('../presentation/growth-anim/model.png')\n",
      "# Save the location of the seed\n",
      "pm.actor.property.representation = 'wireframe'\n",
      "pm.actor.property.line_width = 4\n",
      "ps = myv.prisms([mesh[s.i] for s in seeds])\n",
      "ps.actor.mapper.scalar_visibility = False\n",
      "ps.actor.property.color = (1,0,0)\n",
      "view(fig)\n",
      "myv.savefig('../presentation/growth-anim/seed.png')"
     ],
     "language": "python",
     "metadata": {},
     "outputs": [],
     "prompt_number": 12
    },
    {
     "cell_type": "markdown",
     "metadata": {},
     "source": [
      "Now that we have the scene set, lets iterate over the inverse problem using the special `iharvest` iterator.\n",
      "It performs the same as the normal `harvest` function but instead of a solution, it spits (yields) one update at a time.\n",
      "This is usefull to create animations and the like.\n",
      "Don't use this on a normal inversion as it takes longer."
     ]
    },
    {
     "cell_type": "code",
     "collapsed": false,
     "input": [
      "for i, update in enumerate(gravmag.harvester.iharvest(data, seeds, mesh, 100, 0.001)):\n",
      "    #if i > 5:\n",
      "    #    break\n",
      "    predicted, best, neighborhood = update[1:4]\n",
      "    if best is not None:\n",
      "        p = myv.prisms([mesh[best.i]])\n",
      "        p.actor.mapper.scalar_visibility = False\n",
      "        p.actor.property.color = (1, 0, 0) \n",
      "        #p.actor.property.color = (0, 0, 1)        \n",
      "        plotdata(predicted[0], -300)\n",
      "        plot = myv.prisms([mesh[n] for neighbors in neighborhood for n in neighbors], style='wireframe', linewidth=1)\n",
      "        plot.actor.mapper.scalar_visibility = False\n",
      "        view(fig)\n",
      "        myv.savefig('../presentation/growth-anim/frame%08d.png' % (i))\n",
      "        #p.actor.property.color = (1, 0, 0)      \n",
      "    if best is None:\n",
      "        plotdata(predicted[0], -300)\n",
      "        view(fig)\n",
      "        myv.savefig('../presentation/growth-anim/predicted.png')\n",
      "        plot = myv.prisms([mesh[n] for neighbors in neighborhood for n in neighbors], style='wireframe', linewidth=1)\n",
      "        plot.actor.mapper.scalar_visibility = False\n",
      "        view(fig)\n",
      "        myv.savefig('../presentation/growth-anim/neighbors.png')\n",
      "    # Remove the old neighbors and predicted data\n",
      "    fig.children[-1].remove()\n",
      "    fig.children[-1].remove()       \n",
      "plotdata(predicted[0], -300)\n",
      "view(fig)\n",
      "myv.savefig('../presentation/growth-anim/final.png')\n",
      "myv.show()"
     ],
     "language": "python",
     "metadata": {},
     "outputs": [],
     "prompt_number": 9
    },
    {
     "cell_type": "markdown",
     "metadata": {},
     "source": [
      "## Animating with imagemagik\n",
      "\n",
      "I'll use the [imagemagik](http://www.imagemagick.org) command line tools to make a gif of these frames."
     ]
    },
    {
     "cell_type": "code",
     "collapsed": false,
     "input": [
      "!convert -loop 0 -delay 100 ../presentation/growth-anim/model.png ../presentation/growth-anim/seed.png ../presentation/growth-anim/predicted.png ../presentation/growth-anim/neighbors.png \\\n",
      "\t-delay 10 ../presentation/growth-anim/frame*.png \\\n",
      "\t-delay 200 ../presentation/growth-anim/final.png \\\n",
      "\t../presentation/growth-anim/growth-anim.gif"
     ],
     "language": "python",
     "metadata": {},
     "outputs": []
    }
   ],
   "metadata": {}
  }
 ]
}