{
 "metadata": {
  "name": "steb-by-step"
 },
 "nbformat": 3,
 "nbformat_minor": 0,
 "worksheets": [
  {
   "cells": [
    {
     "cell_type": "markdown",
     "metadata": {},
     "source": [
      "# Show a sample inversion step-by-step\n",
      "\n",
      "Import required modules"
     ]
    },
    {
     "cell_type": "code",
     "collapsed": false,
     "input": [
      "%pylab inline\n",
      "import sys\n",
      "sys.path.append('../fatiando')\n",
      "from fatiando import gravmag, mesher, gridder, utils\n",
      "from fatiando.vis import mpl, myv"
     ],
     "language": "python",
     "metadata": {},
     "outputs": [
      {
       "output_type": "stream",
       "stream": "stdout",
       "text": [
        "\n",
        "Welcome to pylab, a matplotlib-based Python environment [backend: module://IPython.zmq.pylab.backend_inline].\n",
        "For more information, type 'help(pylab)'.\n"
       ]
      }
     ],
     "prompt_number": 1
    },
    {
     "cell_type": "markdown",
     "metadata": {},
     "source": [
      "## Make a nice model and some data"
     ]
    },
    {
     "cell_type": "code",
     "collapsed": false,
     "input": [
      "bounds = [-1500, 1500, -500, 500, 0, 1000]\n",
      "props = {'magnetization':10}\n",
      "model = [mesher.Prism(-600,   600, -200, 200,  200,  500, props)]\n",
      "\n",
      "inc, dec = -45, 0\n",
      "area = bounds[:4]\n",
      "shape = (50, 50)\n",
      "x, y, z = gridder.regular(area, shape, z=-1)\n",
      "tf = utils.contaminate(gravmag.prism.tf(x, y, z, model, inc, dec), stddev=5) # stddev is error in nT\n",
      "data = [gravmag.harvester.TotalField(x, y, z, tf, inc, dec)]\n",
      "\n",
      "mpl.figure()\n",
      "mpl.axis('scaled')\n",
      "mpl.contourf(y, x, tf, shape, 60)\n",
      "mpl.colorbar()\n",
      "mpl.m2km()"
     ],
     "language": "python",
     "metadata": {},
     "outputs": [
      {
       "output_type": "display_data",
       "png": "[encoded data removed]"
      }
     ],
     "prompt_number": 14
    },
    {
     "cell_type": "markdown",
     "metadata": {},
     "source": [
      "## Make the mesh and seeds then invert!"
     ]
    },
    {
     "cell_type": "code",
     "collapsed": false,
     "input": [
      "mesh = mesher.PrismMesh(bounds, (20, 20, 60))\n",
      "print 'Mesh dimensions:', mesh.dims\n",
      "print 'Mesh size:', mesh.size\n",
      "locations = [[0, 0, 210, props]]\n",
      "seeds = gravmag.harvester.sow(locations, mesh)"
     ],
     "language": "python",
     "metadata": {},
     "outputs": [
      {
       "output_type": "stream",
       "stream": "stdout",
       "text": [
        "Mesh dimensions: (50.0, 50.0, 50.0)\n",
        "Mesh size: 24000\n"
       ]
      }
     ],
     "prompt_number": 35
    },
    {
     "cell_type": "code",
     "collapsed": false,
     "input": [
      "def view(scene):\n",
      "    scene.scene.camera.position = [-83.024725024999498, -5387.4077553527204, -1233.3420113237992]\n",
      "    scene.scene.camera.focal_point = [11.912692636517789, -7.6653210228098061, -277.43429149048291]\n",
      "    scene.scene.camera.view_angle = 30.0\n",
      "    scene.scene.camera.view_up = [-0.0010641415948387176, 0.17496434308490244, -0.98457419540201974]\n",
      "    scene.scene.camera.clipping_range = [3910.2270143789488, 7427.8665891592427]\n",
      "    scene.scene.camera.compute_view_plane_normal()\n",
      "    scene.scene.render()\n",
      "X = np.reshape(x, shape, order='F')\n",
      "Y = np.reshape(y, shape, order='F')\n",
      "def plotdata(data, position):\n",
      "    scale = 0.5    \n",
      "    Z = np.reshape(data, shape, order='F')\n",
      "    p = myv.mlab.contour_surf(X, Y, -Z, contours=100, colormap='gist_rainbow')\n",
      "    p.contour.filled_contours = True\n",
      "    p.actor.actor.position = (0, 0, position)\n",
      "    p.actor.actor.scale = (1, 1, scale)\n",
      "\n",
      "fig = myv.figure(size=(1100, 1000))\n",
      "p = myv.prisms(model, style='wireframe', linewidth=4)\n",
      "p.actor.mapper.scalar_visibility = False\n",
      "p.actor.property.color = (1,0,0)\n",
      "p = myv.prisms([mesh[s.i] for s in seeds])\n",
      "p.actor.mapper.scalar_visibility = False\n",
      "p.actor.property.color = (1,0,0)\n",
      "myv.outline(bounds)\n",
      "myv.wall_bottom(bounds)\n",
      "myv.wall_east(bounds)\n",
      "plotdata(tf, -1000)\n",
      "plotdata(tf, -300)\n",
      "view(fig)\n",
      "myv.show()"
     ],
     "language": "python",
     "metadata": {},
     "outputs": [],
     "prompt_number": 37
    },
    {
     "cell_type": "code",
     "collapsed": false,
     "input": [],
     "language": "python",
     "metadata": {},
     "outputs": []
    }
   ],
   "metadata": {}
  }
 ]
}