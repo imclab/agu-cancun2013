{
 "metadata": {
  "name": "two-bodies"
 },
 "nbformat": 3,
 "nbformat_minor": 0,
 "worksheets": [
  {
   "cells": [
    {
     "cell_type": "markdown",
     "metadata": {},
     "source": [
      "# Synthetic test with two bodies\n",
      "\n",
      "Import required modules"
     ]
    },
    {
     "cell_type": "code",
     "collapsed": false,
     "input": [
      "%pylab inline\n",
      "import sys\n",
      "sys.path.append('../fatiando')\n",
      "import json\n",
      "import cPickle as pickle\n",
      "from fatiando import gravmag, gridder, mesher, utils\n",
      "from fatiando.vis import mpl, myv"
     ],
     "language": "python",
     "metadata": {},
     "outputs": [
      {
       "output_type": "stream",
       "stream": "stdout",
       "text": [
        "\n",
        "Welcome to pylab, a matplotlib-based Python environment [backend: module://IPython.zmq.pylab.backend_inline].\n",
        "For more information, type 'help(pylab)'.\n"
       ]
      }
     ],
     "prompt_number": 1
    },
    {
     "cell_type": "markdown",
     "metadata": {},
     "source": [
      "## Generate a model\n",
      "\n",
      "We'll use some contours stored in a JSON file to create PolygonalPrisms and forward model them to generate our synthetic data."
     ]
    },
    {
     "cell_type": "code",
     "collapsed": false,
     "input": [
      "# Load the contours\n",
      "with open('model-contours.json') as f:\n",
      "    contours = array(json.load(f))\n",
      "    ncontours = len(contours)\n",
      "bounds = [0, 15000, 0, 25000, 0, 10000]\n",
      "# Make the polygonal prisms for the first body\n",
      "props1 = {'magnetization':7}\n",
      "depths = linspace(200, 3000, ncontours + 1)\n",
      "model = [mesher.PolygonalPrism(c, depths[i], depths[i + 1], props1) for i, c in enumerate(contours)]\n",
      "# and the second (offset it to the northeast of the first body\n",
      "props2 = {'magnetization':15}\n",
      "offset = array([5000, 10000])\n",
      "depths = linspace(500, 3500, ncontours + 1)\n",
      "model.extend(mesher.PolygonalPrism(c + offset, depths[i], depths[i + 1], props2) for i, c in enumerate(contours))"
     ],
     "language": "python",
     "metadata": {},
     "outputs": [],
     "prompt_number": 2
    },
    {
     "cell_type": "markdown",
     "metadata": {},
     "source": [
      "Now lets take a look at our model."
     ]
    },
    {
     "cell_type": "code",
     "collapsed": false,
     "input": [
      "scene = myv.figure()\n",
      "myv.polyprisms(model, 'magnetization')\n",
      "myv.axes(myv.outline(bounds), ranges=[b*0.001 for b in bounds], nlabels=3, fmt='%.0f')\n",
      "myv.wall_north(bounds)\n",
      "myv.wall_bottom(bounds)\n",
      "myv.show()"
     ],
     "language": "python",
     "metadata": {},
     "outputs": [
      {
       "output_type": "stream",
       "stream": "stderr",
       "text": [
        "/usr/lib/python2.7/dist-packages/mayavi/preferences/preference_manager.py:24: UserWarning: Module dap was already imported from None, but /usr/lib/python2.7/dist-packages is being added to sys.path\n",
        "  import pkg_resources\n"
       ]
      }
     ],
     "prompt_number": 3
    },
    {
     "cell_type": "markdown",
     "metadata": {},
     "source": [
      "## Forward model the synthetic data\n",
      "\n",
      "Now that we have our model, we can produce synthetic noise corrupted data by forward modeling."
     ]
    },
    {
     "cell_type": "code",
     "collapsed": false,
     "input": [
      "inc, dec = -40, -13\n",
      "area = bounds[:4]\n",
      "shape = (50, 50)\n",
      "x, y, z = gridder.regular(area, shape, z=-150)\n",
      "tf = utils.contaminate(gravmag.polyprism.tf(x, y, z, model, inc, dec), stddev=5) # stddev is error in nT\n",
      "\n",
      "mpl.figure(figsize=(5, 5))\n",
      "mpl.axis('scaled')\n",
      "mpl.contourf(y, x, tf, shape, 60, cmap=mpl.cm.seismic)\n",
      "cb = mpl.colorbar(orientation='horizontal')\n",
      "cb.set_label('nT')\n",
      "#mpl.polygon(mesher.Polygon(contours[0]), xy2ne=True)\n",
      "#mpl.polygon(mesher.Polygon(contours[0] + offset), xy2ne=True)\n",
      "mpl.xlabel('East (km)')\n",
      "mpl.ylabel('North (km)')\n",
      "mpl.m2km()\n",
      "mpl.savefig('../presentation/fig/twobodies-data.svg')"
     ],
     "language": "python",
     "metadata": {},
     "outputs": [
      {
       "output_type": "display_data",
       "png": "[encoded data removed]"
      }
     ],
     "prompt_number": 6
    },
    {
     "cell_type": "markdown",
     "metadata": {},
     "source": [
      "## Inversion\n",
      "\n",
      "Now we can run the inversion of the synthetic data.\n",
      "First, we need to create a mesh and some seeds."
     ]
    },
    {
     "cell_type": "code",
     "collapsed": false,
     "input": [
      "mesh = mesher.PrismMesh(bounds, (30, 75, 45))\n",
      "print 'Mesh dimensions:', mesh.dims\n",
      "print 'Mesh size:', mesh.size\n",
      "locations = [[ 5000,  7000, 1500, props1], \n",
      "             [10000, 17000, 2000, props2]]\n",
      "seeds = gravmag.harvester.sow(locations, mesh)"
     ],
     "language": "python",
     "metadata": {},
     "outputs": [
      {
       "output_type": "stream",
       "stream": "stdout",
       "text": [
        "Mesh dimensions: (333.3333333333333, 333.3333333333333, 333.3333333333333)\n",
        "Mesh size: 101250\n"
       ]
      }
     ],
     "prompt_number": 11
    },
    {
     "cell_type": "code",
     "collapsed": false,
     "input": [
      "scene = myv.figure()\n",
      "myv.polyprisms(model, 'magnetization', opacity=0.3)\n",
      "myv.prisms([mesh[s.i] for s in seeds])\n",
      "myv.axes(myv.outline(bounds), ranges=[b*0.001 for b in bounds], nlabels=3, fmt='%.0f')\n",
      "myv.wall_north(bounds)\n",
      "myv.wall_bottom(bounds)\n",
      "myv.show()"
     ],
     "language": "python",
     "metadata": {},
     "outputs": [],
     "prompt_number": 12
    },
    {
     "cell_type": "markdown",
     "metadata": {},
     "source": [
      "Run the inversion."
     ]
    },
    {
     "cell_type": "code",
     "collapsed": false,
     "input": [
      "data = [gravmag.harvester.TotalField(x, y, z, tf, inc, dec)]\n",
      "estimate, predicted = gravmag.harvester.harvest(data, seeds, mesh, compactness=100, threshold=0.0005)\n",
      "mesh.addprop('magnetization', estimate['magnetization'])\n",
      "bodies = mesher.vremove(0, 'magnetization', mesh)\n",
      "print \"# of prisms in the solution:\", len(bodies)\n",
      "residuals = tf - predicted[0]\n",
      "print \"Residuals mean:\", residuals.mean()\n",
      "print \"Residuals standard deviation:\", residuals.std()"
     ],
     "language": "python",
     "metadata": {},
     "outputs": [
      {
       "output_type": "stream",
       "stream": "stdout",
       "text": [
        "# of prisms in the solution: 1131\n",
        "Residuals mean: 0.724333963839\n",
        "Residuals standard deviation: 26.8982294372\n"
       ]
      }
     ],
     "prompt_number": 20
    },
    {
     "cell_type": "code",
     "collapsed": false,
     "input": [
      "mpl.figure(figsize=(5, 5))\n",
      "mpl.title('Fit: Observed (red) vs predicted (black)')\n",
      "mpl.axis('scaled')\n",
      "levels = mpl.contourf(y, x, tf, shape, 10, cmap=mpl.cm.seismic)\n",
      "cb = mpl.colorbar(orientation='horizontal')\n",
      "cb.set_label('nT')\n",
      "mpl.contour(y, x, predicted[0], shape, levels, color='k')\n",
      "mpl.xlabel('East (km)')\n",
      "mpl.ylabel('North (km)')\n",
      "mpl.m2km()"
     ],
     "language": "python",
     "metadata": {},
     "outputs": [
      {
       "output_type": "display_data",
       "png": "[encoded data removed]"
      }
     ],
     "prompt_number": 21
    },
    {
     "cell_type": "code",
     "collapsed": false,
     "input": [
      "scene = myv.figure()\n",
      "plot = myv.polyprisms(model, 'magnetization', style='wireframe', linewidth=3)\n",
      "plot.actor.mapper.scalar_visibility = False\n",
      "myv.prisms([mesh[s.i] for s in seeds], 'magnetization')\n",
      "myv.prisms(bodies, 'magnetization')\n",
      "myv.axes(myv.outline(bounds), ranges=[b*0.001 for b in bounds], nlabels=3, fmt='%.0f')\n",
      "myv.wall_north(bounds)\n",
      "myv.wall_bottom(bounds)\n",
      "myv.show()"
     ],
     "language": "python",
     "metadata": {},
     "outputs": [],
     "prompt_number": 22
    },
    {
     "cell_type": "markdown",
     "metadata": {},
     "source": [
      "Run with different values of the threshold parameter to see which is best."
     ]
    },
    {
     "cell_type": "code",
     "collapsed": false,
     "input": [
      "for i in linspace(0.0003, 0.001, 5):\n",
      "    e, p = gravmag.harvester.harvest(data, seeds, mesh, compactness=10, threshold=i)\n",
      "    mesh.addprop('magnetization', e['magnetization'])\n",
      "    b = mesher.vremove(0, 'magnetization', mesh)\n",
      "    scene = myv.figure()\n",
      "    plot = myv.polyprisms(model, 'magnetization', style='wireframe', linewidth=3)\n",
      "    plot.actor.mapper.scalar_visibility = False\n",
      "    myv.prisms(b, 'magnetization')\n",
      "    myv.axes(myv.outline(bounds), ranges=[b*0.001 for b in bounds], nlabels=3, fmt='%.0f')\n",
      "    myv.wall_north(bounds)\n",
      "    myv.wall_bottom(bounds)\n",
      "    myv.title(str(i))\n",
      "myv.show()"
     ],
     "language": "python",
     "metadata": {},
     "outputs": [],
     "prompt_number": 19
    },
    {
     "cell_type": "markdown",
     "metadata": {},
     "source": [
      "Do the same for the regularization parameter (compactness):"
     ]
    },
    {
     "cell_type": "code",
     "collapsed": false,
     "input": [
      "for i in linspace(1, 100, 10):\n",
      "    e, p = gravmag.harvester.harvest(data, seeds, mesh, compactness=i, threshold=0.0005)\n",
      "    mesh.addprop('magnetization', e['magnetization'])\n",
      "    b = mesher.vremove(0, 'magnetization', mesh)\n",
      "    r = tf - p[0]    \n",
      "    scene = myv.figure()\n",
      "    plot = myv.polyprisms(model, 'magnetization', style='wireframe', linewidth=3)\n",
      "    plot.actor.mapper.scalar_visibility = False\n",
      "    myv.prisms(b, 'magnetization')\n",
      "    myv.axes(myv.outline(bounds), ranges=[b*0.001 for b in bounds], nlabels=3, fmt='%.0f')\n",
      "    myv.wall_north(bounds)\n",
      "    myv.wall_bottom(bounds)\n",
      "    myv.title(str(i))\n",
      "myv.show()"
     ],
     "language": "python",
     "metadata": {},
     "outputs": [],
     "prompt_number": 24
    },
    {
     "cell_type": "code",
     "collapsed": false,
     "input": [],
     "language": "python",
     "metadata": {},
     "outputs": []
    }
   ],
   "metadata": {}
  }
 ]
}