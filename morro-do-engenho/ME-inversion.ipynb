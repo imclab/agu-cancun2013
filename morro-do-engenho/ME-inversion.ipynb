{
 "metadata": {
  "name": "ME-inversion"
 },
 "nbformat": 3,
 "nbformat_minor": 0,
 "worksheets": [
  {
   "cells": [
    {
     "cell_type": "markdown",
     "metadata": {},
     "source": [
      "# Perform the inversion of the magnetic anomaly ME using fatiando.gravmag.harvester\n",
      "\n",
      "Setup:"
     ]
    },
    {
     "cell_type": "code",
     "collapsed": false,
     "input": [
      "%pylab inline\n",
      "import json\n",
      "from fatiando import gravmag, logger, mesher\n",
      "from fatiando.vis import mpl, myv\n",
      "from IPython.display import Image"
     ],
     "language": "python",
     "metadata": {},
     "outputs": [
      {
       "output_type": "stream",
       "stream": "stdout",
       "text": [
        "\n",
        "Welcome to pylab, a matplotlib-based Python environment [backend: module://IPython.zmq.pylab.backend_inline].\n",
        "For more information, type 'help(pylab)'.\n"
       ]
      }
     ],
     "prompt_number": 1
    },
    {
     "cell_type": "code",
     "collapsed": false,
     "input": [
      "log = logger.get()\n",
      "log.info(logger.header())"
     ],
     "language": "python",
     "metadata": {},
     "outputs": [
      {
       "output_type": "stream",
       "stream": "stderr",
       "text": [
        "########################################\n",
        "Fatiando a Terra:\n",
        "  date: Tue Feb  5 17:37:30 2013\n",
        "  version: 0.1.dev\n",
        "  changeset: Unknown\n",
        "########################################\n"
       ]
      }
     ],
     "prompt_number": 2
    },
    {
     "cell_type": "markdown",
     "metadata": {},
     "source": [
      "## The data"
     ]
    },
    {
     "cell_type": "code",
     "collapsed": false,
     "input": [
      "x, y, z, topo, tf = loadtxt('ME.dat', unpack=True, usecols=[2, 3, 4, 5, 6])\n",
      "tf-=11.1166\n",
      "mpl.figure(figsize=(8,4))\n",
      "mpl.axis('scaled')\n",
      "mpl.title('ME anomaly (nT)')\n",
      "mpl.contourf(y, x, tf, (60, 60), 30, interp=True)\n",
      "mpl.colorbar()\n",
      "mpl.xlabel('East (km)')\n",
      "mpl.ylabel('North (km)')\n",
      "mpl.m2km()"
     ],
     "language": "python",
     "metadata": {},
     "outputs": [
      {
       "output_type": "stream",
       "stream": "stderr",
       "text": [
        "/usr/lib/pymodules/python2.7/mpl_toolkits/__init__.py:2: UserWarning: Module dap was already imported from None, but /usr/lib/python2.7/dist-packages is being added to sys.path\n",
        "  __import__('pkg_resources').declare_namespace(__name__)\n"
       ]
      },
      {
       "output_type": "display_data",
       "png": "[encoded data removed]"
      }
     ],
     "prompt_number": 3
    },
    {
     "cell_type": "markdown",
     "metadata": {},
     "source": [
      "Some data properties:"
     ]
    },
    {
     "cell_type": "code",
     "collapsed": false,
     "input": [
      "area = [x.min(), x.max(), y.min(), y.max()]\n",
      "print \"area:\", area\n",
      "print \"max topo:\", topo.max()\n",
      "print \"min topo:\", topo.min()\n"
     ],
     "language": "python",
     "metadata": {},
     "outputs": [
      {
       "output_type": "stream",
       "stream": "stdout",
       "text": [
        "area: [0.0, 19773.813559999999, 0.0, 21186.228810000001]\n",
        "max topo: 317.25789\n",
        "min topo: 273.64715\n"
       ]
      }
     ],
     "prompt_number": 4
    },
    {
     "cell_type": "markdown",
     "metadata": {},
     "source": [
      "Load the physical properties from the JSON file:"
     ]
    },
    {
     "cell_type": "code",
     "collapsed": false,
     "input": [
      "with open('physical_properties.json') as f:\n",
      "    props = json.load(f)\n",
      "print props"
     ],
     "language": "python",
     "metadata": {},
     "outputs": [
      {
       "output_type": "stream",
       "stream": "stdout",
       "text": [
        "{u'remanent': {u'declination': -13, u'inclination': -43}, u'inducing': {u'declination': -13, u'inclination': -9.5}, u'total': {u'declination': -13, u'magnetization': 6, u'inclination': -40}}\n"
       ]
      }
     ],
     "prompt_number": 5
    },
    {
     "cell_type": "markdown",
     "metadata": {},
     "source": [
      "### The inversion\n",
      "\n",
      "Create a prism mesh:"
     ]
    },
    {
     "cell_type": "code",
     "collapsed": false,
     "input": [
      "bounds = (x.min(), x.max(), y.min(), y.max(), -topo.max(), 15000)\n",
      "mesh = mesher.PrismMesh(bounds, (60, 80, 80))\n",
      "mesh.carvetopo(x, y, topo)"
     ],
     "language": "python",
     "metadata": {},
     "outputs": [
      {
       "output_type": "stream",
       "stream": "stderr",
       "text": [
        "Generating 3D right rectangular prism mesh:\n"
       ]
      },
      {
       "output_type": "stream",
       "stream": "stderr",
       "text": [
        "  bounds = (x1, x2, y1, y2, z1, z2) = (0.0, 19773.813559999999, 0.0, 21186.228810000001, -317.25788999999997, 15000)\n"
       ]
      },
      {
       "output_type": "stream",
       "stream": "stderr",
       "text": [
        "  shape = (nz, ny, nx) = (60, 80, 80)\n"
       ]
      },
      {
       "output_type": "stream",
       "stream": "stderr",
       "text": [
        "  number of prisms = 384000\n"
       ]
      },
      {
       "output_type": "stream",
       "stream": "stderr",
       "text": [
        "  prism dimensions = (dx, dy, dz) = (247.17266949999998, 264.82786012500003, 255.2876315)\n"
       ]
      }
     ],
     "prompt_number": 6
    },
    {
     "cell_type": "markdown",
     "metadata": {},
     "source": [
      "Wrap the data in containers that *harvester* understands:"
     ]
    },
    {
     "cell_type": "code",
     "collapsed": false,
     "input": [
      "data = [gravmag.harvester.TotalField(x, y, z, tf, inc=props['inducing']['inclination'], dec=props['inducing']['declination'])]"
     ],
     "language": "python",
     "metadata": {},
     "outputs": [],
     "prompt_number": 7
    },
    {
     "cell_type": "markdown",
     "metadata": {},
     "source": [
      "Create the seeds:"
     ]
    },
    {
     "cell_type": "code",
     "collapsed": false,
     "input": [
      "# Alter the magnetization to seed what range works\n",
      "propME = dict(props['total'])\n",
      "locations = [[8000,  11000, 0, propME]]\n",
      "seeds = gravmag.harvester.sow(locations, mesh)\n",
      "\n",
      "mpl.figure(figsize=(8,4))\n",
      "mpl.axis('scaled')\n",
      "mpl.title('ME anomaly (nT) + seed locations')\n",
      "mpl.contourf(y, x, tf, (60, 60), 40, interp=True)\n",
      "mpl.colorbar()\n",
      "for s in locations:\n",
      "    mpl.plot(s[1], s[0], 'ok')\n",
      "mpl.xlabel('East (km)')\n",
      "mpl.ylabel('North (km)')\n",
      "mpl.m2km()"
     ],
     "language": "python",
     "metadata": {},
     "outputs": [
      {
       "output_type": "stream",
       "stream": "stderr",
       "text": [
        "Fetching seeds from mesh:\n"
       ]
      },
      {
       "output_type": "stream",
       "stream": "stderr",
       "text": [
        "  points given: 1\n"
       ]
      },
      {
       "output_type": "stream",
       "stream": "stderr",
       "text": [
        "  unique seeds found: 1\n"
       ]
      },
      {
       "output_type": "display_data",
       "png": "[encoded data removed]"
      }
     ],
     "prompt_number": "*"
    },
    {
     "cell_type": "markdown",
     "metadata": {},
     "source": [
      "Run the inversion:"
     ]
    },
    {
     "cell_type": "code",
     "collapsed": false,
     "input": [
      "estimate, predicted = gravmag.harvester.harvest(data, seeds, mesh, 1, 0.0001)\n",
      "\n",
      "mesh.addprop('magnetization', estimate['magnetization'])\n",
      "body = mesher.vremove(0, 'magnetization', mesh)\n",
      "\n",
      "bottom = max(c.z2 for c in body)\n",
      "print \"Bottom at: %g m\" % (bottom)\n",
      "top = min(c.z1 for c in body)\n",
      "print \"Top at: %g m\" % (top)\n",
      "print \"Mesh top: %g m\" % (bounds[-2])\n",
      "\n",
      "residuals = tf - predicted[0]\n",
      "anomaly_range = tf.max() - tf.min()\n",
      "print 'Range of total field anomaly:', anomaly_range\n",
      "stddev = residuals.std()\n",
      "print 'Residuals standard deviation:', stddev\n",
      "print 'Percent of residuals standard deviation:', 100*float(stddev)/anomaly_range"
     ],
     "language": "python",
     "metadata": {},
     "outputs": [
      {
       "output_type": "stream",
       "stream": "stderr",
       "text": [
        "Harvesting inversion results:\n"
       ]
      },
      {
       "output_type": "stream",
       "stream": "stderr",
       "text": [
        "  compactness: 1\n"
       ]
      },
      {
       "output_type": "stream",
       "stream": "stderr",
       "text": [
        "  threshold: 0.0001\n"
       ]
      },
      {
       "output_type": "stream",
       "stream": "stderr",
       "text": [
        "  # of seeds: 1\n"
       ]
      },
      {
       "output_type": "stream",
       "stream": "stderr",
       "text": [
        "  # of data types: 1\n"
       ]
      },
      {
       "output_type": "stream",
       "stream": "stderr",
       "text": [
        "  initial goal function: 82.7305\n"
       ]
      },
      {
       "output_type": "stream",
       "stream": "stderr",
       "text": [
        "  initial data misfit: 1.0001\n"
       ]
      },
      {
       "output_type": "stream",
       "stream": "stderr",
       "text": [
        "  Running...\n"
       ]
      }
     ],
     "prompt_number": "*"
    },
    {
     "cell_type": "markdown",
     "metadata": {},
     "source": [
      "Plot the adjustment and a histogram of the residuals:"
     ]
    },
    {
     "cell_type": "code",
     "collapsed": false,
     "input": [
      "mpl.figure(figsize=(15, 5))\n",
      "\n",
      "mpl.subplot(1, 2, 1)\n",
      "shape = (60, 60)\n",
      "mpl.title(\"Observed = color | Predicted = contour\")\n",
      "mpl.axis('scaled')\n",
      "levels = mpl.contour(y, x, tf, shape, 15, interp=True, color='r')\n",
      "#mpl.colorbar()\n",
      "mpl.contour(y, x, predicted[0], shape, levels, interp=True)\n",
      "mpl.xlabel('East (km)')\n",
      "mpl.ylabel('North (km)')\n",
      "mpl.m2km()\n",
      "\n",
      "mpl.subplot(1, 2, 2)\n",
      "mpl.title('Residuals: mean=%g std=%g' % (residuals.mean(), residuals.std()))\n",
      "mpl.hist(residuals, bins=50, color='gray')\n",
      "mpl.xlabel('Residuals (nT)')\n",
      "mpl.ylabel('Number of')\n",
      "#mpl.xlim(-1000, 1000)"
     ],
     "language": "python",
     "metadata": {},
     "outputs": [],
     "prompt_number": "*"
    },
    {
     "cell_type": "markdown",
     "metadata": {},
     "source": [
      "Plot the estimate:"
     ]
    },
    {
     "cell_type": "code",
     "collapsed": false,
     "input": [
      "myv.figure(size=(800, 600))\n",
      "myv.prisms([mesh[s.i] for s in seeds], 'magnetization')\n",
      "myv.prisms(body, 'magnetization')\n",
      "myv.axes(myv.outline(bounds), nlabels=5, ranges=[i*0.001 for i in bounds], fmt='%.0f')\n",
      "myv.wall_east(bounds)\n",
      "myv.wall_bottom(bounds)\n",
      "myv.savefig('A2-estimate.png')\n",
      "Image(filename='A2-estimate.png')"
     ],
     "language": "python",
     "metadata": {},
     "outputs": [],
     "prompt_number": "*"
    },
    {
     "cell_type": "code",
     "collapsed": false,
     "input": [
      "myv.show()"
     ],
     "language": "python",
     "metadata": {},
     "outputs": [],
     "prompt_number": "*"
    },
    {
     "cell_type": "markdown",
     "metadata": {},
     "source": [
      "Save the estimate:"
     ]
    },
    {
     "cell_type": "code",
     "collapsed": false,
     "input": [
      "import cPickle as pickle\n",
      "with open('A2-estimate.pickle', 'w') as f:\n",
      "    pickle.dump(body, f)\n",
      "np.savetxt('A2-predicted.txt', np.transpose([x, y, z, predicted[0]]))"
     ],
     "language": "python",
     "metadata": {},
     "outputs": [],
     "prompt_number": "*"
    },
    {
     "cell_type": "code",
     "collapsed": false,
     "input": [],
     "language": "python",
     "metadata": {},
     "outputs": [],
     "prompt_number": "*"
    }
   ],
   "metadata": {}
  }
 ]
}