{
 "metadata": {
  "name": "seismic_wavefd"
 },
 "nbformat": 3,
 "nbformat_minor": 0,
 "worksheets": [
  {
   "cells": [
    {
     "cell_type": "markdown",
     "metadata": {},
     "source": [
      "# Benchmark the Finite Differences solver for the elastic wave propagation"
     ]
    },
    {
     "cell_type": "code",
     "collapsed": false,
     "input": [
      "%pylab inline\n",
      "from fatiando import gridder, vis\n",
      "from fatiando.seismic import wavefd"
     ],
     "language": "python",
     "metadata": {},
     "outputs": [
      {
       "output_type": "stream",
       "stream": "stdout",
       "text": [
        "\n",
        "Welcome to pylab, a matplotlib-based Python environment [backend: module://IPython.zmq.pylab.backend_inline].\n",
        "For more information, type 'help(pylab)'.\n"
       ]
      }
     ],
     "prompt_number": 1
    },
    {
     "cell_type": "markdown",
     "metadata": {},
     "source": [
      "## SH waves"
     ]
    },
    {
     "cell_type": "code",
     "collapsed": false,
     "input": [
      "# Make a wave source from a mexican hat wavelet\n",
      "sources = [wavefd.MexHatSource(25, 25, 100, 0.5, delay=1.5)]\n",
      "# Set the parameters of the finite difference grid\n",
      "shape = (200, 200)\n",
      "spacing = (250, 250)\n",
      "area = (0, spacing[1]*shape[1], 0, spacing[0]*shape[0])\n",
      "# Make a density and S wave velocity model\n",
      "dens = 2700*ones(shape)\n",
      "svel = 3000*ones(shape)\n",
      "dt = 0.05\n",
      "maxit = 400"
     ],
     "language": "python",
     "metadata": {},
     "outputs": [],
     "prompt_number": 2
    },
    {
     "cell_type": "code",
     "collapsed": false,
     "input": [
      "%timeit -n 5 [u for u in wavefd.elastic_sh(spacing, shape, svel, dens, dt, maxit, sources, padding=0.5)]"
     ],
     "language": "python",
     "metadata": {},
     "outputs": [
      {
       "output_type": "stream",
       "stream": "stdout",
       "text": [
        "5 loops, best of 3: 1.31 s per loop\n"
       ]
      }
     ],
     "prompt_number": 3
    },
    {
     "cell_type": "code",
     "collapsed": false,
     "input": [
      "def run():\n",
      "    for u in wavefd.elastic_sh(spacing, shape, svel, dens, dt, maxit, sources, padding=0.5):\n",
      "        continue\n",
      "%prun -T seismic_wavefd.elastic_sh.profile run()\n",
      "!cat seismic_wavefd.elastic_sh.profile"
     ],
     "language": "python",
     "metadata": {},
     "outputs": [
      {
       "output_type": "stream",
       "stream": "stdout",
       "text": [
        " \n",
        "*** Profile printout saved to text file u'seismic_wavefd.elastic_sh.profile'. \n",
        "         2409 function calls in 1.317 seconds\r\n",
        "\r\n",
        "   Ordered by: internal time\r\n",
        "\r\n",
        "   ncalls  tottime  percall  cumtime  percall filename:lineno(function)\r\n",
        "      399    0.776    0.002    0.776    0.002 {fatiando.seismic._cwavefd._apply_damping}\r\n",
        "      399    0.516    0.001    0.516    0.001 {fatiando.seismic._cwavefd._step_elastic_sh}\r\n",
        "      402    0.011    0.000    1.316    0.003 wavefd.py:382(elastic_sh)\r\n",
        "      400    0.008    0.000    0.008    0.000 wavefd.py:229(__call__)\r\n",
        "      399    0.002    0.000    0.002    0.000 {fatiando.seismic._cwavefd._boundary_conditions}\r\n",
        "        1    0.002    0.002    0.002    0.002 wavefd.py:331(_add_pad)\r\n",
        "        2    0.001    0.001    0.001    0.001 {numpy.core.multiarray.zeros}\r\n",
        "        1    0.000    0.000    1.317    1.317 <ipython-input-4-1bad3f344c47>:1(run)\r\n",
        "      400    0.000    0.000    0.000    0.000 wavefd.py:237(coords)\r\n",
        "        1    0.000    0.000    1.317    1.317 <string>:1(<module>)\r\n",
        "        3    0.000    0.000    0.000    0.000 wavefd.py:421(<genexpr>)\r\n",
        "        1    0.000    0.000    0.000    0.000 {max}\r\n",
        "        1    0.000    0.000    0.000    0.000 {method 'disable' of '_lsprof.Profiler' objects}"
       ]
      }
     ],
     "prompt_number": 4
    },
    {
     "cell_type": "markdown",
     "metadata": {},
     "source": [
      "## P and SV waves"
     ]
    },
    {
     "cell_type": "code",
     "collapsed": false,
     "input": [
      "# Make a wave source from a mexican hat wavelet\n",
      "sources = [wavefd.MexHatSource(25, 25, 100, 0.5, delay=1.5)]\n",
      "# Set the parameters of the finite difference grid\n",
      "shape = (100, 100)\n",
      "spacing = (500, 500)\n",
      "area = (0, spacing[1]*shape[1], 0, spacing[0]*shape[0])\n",
      "# Make a density and S wave velocity model\n",
      "dens = 2700*ones(shape)\n",
      "svel = 3000*ones(shape)\n",
      "pvel = 4000*ones(shape)\n",
      "dt = 0.05\n",
      "maxit = 300"
     ],
     "language": "python",
     "metadata": {},
     "outputs": [],
     "prompt_number": 11
    },
    {
     "cell_type": "code",
     "collapsed": false,
     "input": [
      "%timeit -n 5 [u for u in wavefd.elastic_psv(spacing, shape, pvel, svel, dens, dt, maxit, sources, sources, padding=0.5)]"
     ],
     "language": "python",
     "metadata": {},
     "outputs": [
      {
       "output_type": "stream",
       "stream": "stdout",
       "text": [
        "5 loops, best of 3: 963 ms per loop\n"
       ]
      }
     ],
     "prompt_number": 12
    },
    {
     "cell_type": "code",
     "collapsed": false,
     "input": [
      "def run():\n",
      "    for u in wavefd.elastic_psv(spacing, shape, pvel, svel, dens, dt, maxit, sources, sources, padding=0.5):\n",
      "        continue\n",
      "%prun -T seismic_wavefd.elastic_psv.profile run()\n",
      "!cat seismic_wavefd.elastic_psv.profile"
     ],
     "language": "python",
     "metadata": {},
     "outputs": [
      {
       "output_type": "stream",
       "stream": "stdout",
       "text": [
        " \n",
        "*** Profile printout saved to text file u'seismic_wavefd.elastic_psv.profile'. \n",
        "         3309 function calls in 0.965 seconds\r\n",
        "\r\n",
        "   Ordered by: internal time\r\n",
        "\r\n",
        "   ncalls  tottime  percall  cumtime  percall filename:lineno(function)\r\n",
        "      299    0.325    0.001    0.325    0.001 {fatiando.seismic._cwavefd._step_elastic_psv_x}\r\n",
        "      299    0.316    0.001    0.316    0.001 {fatiando.seismic._cwavefd._step_elastic_psv_z}\r\n",
        "      598    0.301    0.001    0.301    0.001 {fatiando.seismic._cwavefd._apply_damping}\r\n",
        "      302    0.011    0.000    0.965    0.003 wavefd.py:502(elastic_psv)\r\n",
        "      600    0.009    0.000    0.009    0.000 wavefd.py:229(__call__)\r\n",
        "      598    0.001    0.000    0.001    0.000 {fatiando.seismic._cwavefd._boundary_conditions}\r\n",
        "        2    0.001    0.001    0.001    0.001 wavefd.py:331(_add_pad)\r\n",
        "        1    0.000    0.000    0.965    0.965 <ipython-input-13-887484d2d225>:1(run)\r\n",
        "      600    0.000    0.000    0.000    0.000 wavefd.py:237(coords)\r\n",
        "        4    0.000    0.000    0.000    0.000 {numpy.core.multiarray.zeros}\r\n",
        "        3    0.000    0.000    0.000    0.000 wavefd.py:545(<genexpr>)\r\n",
        "        1    0.000    0.000    0.965    0.965 <string>:1(<module>)\r\n",
        "        1    0.000    0.000    0.000    0.000 {max}\r\n",
        "        1    0.000    0.000    0.000    0.000 {method 'disable' of '_lsprof.Profiler' objects}"
       ]
      }
     ],
     "prompt_number": 13
    },
    {
     "cell_type": "code",
     "collapsed": false,
     "input": [],
     "language": "python",
     "metadata": {},
     "outputs": []
    }
   ],
   "metadata": {}
  }
 ]
}